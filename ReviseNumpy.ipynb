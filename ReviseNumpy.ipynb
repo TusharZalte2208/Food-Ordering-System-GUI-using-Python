{
  "nbformat": 4,
  "nbformat_minor": 0,
  "metadata": {
    "colab": {
      "provenance": [],
      "authorship_tag": "ABX9TyN8RyAgL/K9Jn/u2cA+c5Ao",
      "include_colab_link": true
    },
    "kernelspec": {
      "name": "python3",
      "display_name": "Python 3"
    },
    "language_info": {
      "name": "python"
    }
  },
  "cells": [
    {
      "cell_type": "markdown",
      "metadata": {
        "id": "view-in-github",
        "colab_type": "text"
      },
      "source": [
        "<a href=\"https://colab.research.google.com/github/TusharZalte2208/Food-Ordering-System-GUI-using-Python/blob/main/ReviseNumpy.ipynb\" target=\"_parent\"><img src=\"https://colab.research.google.com/assets/colab-badge.svg\" alt=\"Open In Colab\"/></a>"
      ]
    },
    {
      "cell_type": "code",
      "execution_count": 1,
      "metadata": {
        "colab": {
          "base_uri": "https://localhost:8080/"
        },
        "id": "uw9IDnDPkoI1",
        "outputId": "6cb7cfe6-3565-4f62-f8d6-6caf5c3ce36a"
      },
      "outputs": [
        {
          "output_type": "stream",
          "name": "stdout",
          "text": [
            "[1 2 3 4]\n"
          ]
        }
      ],
      "source": [
        "import numpy as np\n",
        "x = np.array([1,2,3,4])\n",
        "print(x)"
      ]
    },
    {
      "cell_type": "code",
      "source": [
        "y=[1,2,3,4]\n",
        "print(y)"
      ],
      "metadata": {
        "colab": {
          "base_uri": "https://localhost:8080/"
        },
        "id": "82dvfy9hk-7D",
        "outputId": "f554f30b-afa3-49d4-9e0a-0a2b207f41dd"
      },
      "execution_count": 2,
      "outputs": [
        {
          "output_type": "stream",
          "name": "stdout",
          "text": [
            "[1, 2, 3, 4]\n"
          ]
        }
      ]
    },
    {
      "cell_type": "code",
      "source": [
        "print(type(x))\n",
        "print(type(y))"
      ],
      "metadata": {
        "colab": {
          "base_uri": "https://localhost:8080/"
        },
        "id": "7GUXsVKPlJkC",
        "outputId": "9f2c1bd4-9d15-49fe-e23b-52ee099433cd"
      },
      "execution_count": 3,
      "outputs": [
        {
          "output_type": "stream",
          "name": "stdout",
          "text": [
            "<class 'numpy.ndarray'>\n",
            "<class 'list'>\n"
          ]
        }
      ]
    },
    {
      "cell_type": "code",
      "source": [
        "a=([1,2,\"hello\"])\n",
        "print(a)"
      ],
      "metadata": {
        "colab": {
          "base_uri": "https://localhost:8080/"
        },
        "id": "ttmSWP9QlSC7",
        "outputId": "5f0aa1e6-7702-4617-fe92-e468161f578a"
      },
      "execution_count": 7,
      "outputs": [
        {
          "output_type": "stream",
          "name": "stdout",
          "text": [
            "[1, 2, 'hello']\n"
          ]
        }
      ]
    },
    {
      "cell_type": "code",
      "source": [
        "%timeit [i**4 for i in range(1,9)]\n",
        "%timeit [(i**4 for i in range(1,9))]\n",
        "%timeit np.arange(1,9)**4"
      ],
      "metadata": {
        "colab": {
          "base_uri": "https://localhost:8080/"
        },
        "id": "jy777Irwl0gR",
        "outputId": "2e8aef99-00d8-4754-e8ff-1b5fdebd12e8"
      },
      "execution_count": 13,
      "outputs": [
        {
          "output_type": "stream",
          "name": "stdout",
          "text": [
            "774 ns ± 12.7 ns per loop (mean ± std. dev. of 7 runs, 1000000 loops each)\n",
            "624 ns ± 92.6 ns per loop (mean ± std. dev. of 7 runs, 1000000 loops each)\n",
            "2.8 µs ± 613 ns per loop (mean ± std. dev. of 7 runs, 100000 loops each)\n"
          ]
        }
      ]
    },
    {
      "cell_type": "markdown",
      "source": [
        "# Arrays\n"
      ],
      "metadata": {
        "id": "7pn1TP35prmr"
      }
    },
    {
      "cell_type": "code",
      "source": [
        "import numpy as np\n",
        "y=[1,2,3,4]\n",
        "x=np.array(y)\n",
        "print(type(x))\n",
        "print(type(y))"
      ],
      "metadata": {
        "colab": {
          "base_uri": "https://localhost:8080/"
        },
        "id": "TGkZ5cAhp3Rh",
        "outputId": "375bf5df-c99a-41af-9f4b-5e264ba6d5aa"
      },
      "execution_count": 14,
      "outputs": [
        {
          "output_type": "stream",
          "name": "stdout",
          "text": [
            "<class 'numpy.ndarray'>\n",
            "<class 'list'>\n"
          ]
        }
      ]
    },
    {
      "cell_type": "code",
      "source": [
        "l=[]\n",
        "for i in range(1,5):\n",
        "  a=int(input(\"Enter an integer:\"))\n",
        "  l.append(a)\n",
        "\n",
        "print(np.array(l))\n",
        "print(type(np.array(l)))"
      ],
      "metadata": {
        "colab": {
          "base_uri": "https://localhost:8080/"
        },
        "id": "oL5iVj2XrAsr",
        "outputId": "d4863a12-a720-46cb-8d4c-5d9637ae9d90"
      },
      "execution_count": 17,
      "outputs": [
        {
          "output_type": "stream",
          "name": "stdout",
          "text": [
            "Enter an integer:45\n",
            "Enter an integer:56\n",
            "Enter an integer:548\n",
            "Enter an integer:454\n",
            "[ 45  56 548 454]\n",
            "<class 'numpy.ndarray'>\n"
          ]
        }
      ]
    },
    {
      "cell_type": "code",
      "source": [
        "arr2=np.array([[1,2,3,4],[4,3,2,1]])\n",
        "print(arr2)\n",
        "print(arr2.ndim)"
      ],
      "metadata": {
        "colab": {
          "base_uri": "https://localhost:8080/"
        },
        "id": "HJivdI_usdA6",
        "outputId": "8052163b-6541-46bc-f474-15e0bfbe5b60"
      },
      "execution_count": 20,
      "outputs": [
        {
          "output_type": "stream",
          "name": "stdout",
          "text": [
            "[[1 2 3 4]\n",
            " [4 3 2 1]]\n",
            "2\n"
          ]
        }
      ]
    },
    {
      "cell_type": "code",
      "source": [
        "arr3=np.array([[[1,2,3,4],[4,5,6,7],[8,5,9,9]]])\n",
        "print(arr3)\n",
        "print(arr3.ndim)"
      ],
      "metadata": {
        "colab": {
          "base_uri": "https://localhost:8080/"
        },
        "id": "NKizc6-dtGA5",
        "outputId": "df8ced73-f4ec-40e2-84c3-0cad1cab118d"
      },
      "execution_count": 21,
      "outputs": [
        {
          "output_type": "stream",
          "name": "stdout",
          "text": [
            "[[[1 2 3 4]\n",
            "  [4 5 6 7]\n",
            "  [8 5 9 9]]]\n",
            "3\n"
          ]
        }
      ]
    },
    {
      "cell_type": "code",
      "source": [
        "arr10=np.array([1,2,4,5],ndmin = 10)\n",
        "print(arr10)\n",
        "print(arr10.ndim)"
      ],
      "metadata": {
        "colab": {
          "base_uri": "https://localhost:8080/"
        },
        "id": "5e9AduX6tlti",
        "outputId": "4642f980-464e-4e0a-814b-7b99c503bfac"
      },
      "execution_count": 27,
      "outputs": [
        {
          "output_type": "stream",
          "name": "stdout",
          "text": [
            "[[[[[[[[[[1 2 4 5]]]]]]]]]]\n",
            "10\n"
          ]
        }
      ]
    },
    {
      "cell_type": "code",
      "source": [
        "arr0=np.zeros(4)\n",
        "print(arr0)\n",
        "print()\n",
        "arr00=np.zeros((4,5))\n",
        "print(arr00)"
      ],
      "metadata": {
        "colab": {
          "base_uri": "https://localhost:8080/"
        },
        "id": "6wKAT2I5uu5z",
        "outputId": "44e85c81-b179-42c0-fab4-8936eb215777"
      },
      "execution_count": 32,
      "outputs": [
        {
          "output_type": "stream",
          "name": "stdout",
          "text": [
            "[0. 0. 0. 0.]\n",
            "\n",
            "[[0. 0. 0. 0. 0.]\n",
            " [0. 0. 0. 0. 0.]\n",
            " [0. 0. 0. 0. 0.]\n",
            " [0. 0. 0. 0. 0.]]\n"
          ]
        }
      ]
    },
    {
      "cell_type": "code",
      "source": [
        "arr1=np.ones(4)\n",
        "arr11=np.ones((4,5))\n",
        "print(arr1)\n",
        "print()\n",
        "print(arr11)"
      ],
      "metadata": {
        "colab": {
          "base_uri": "https://localhost:8080/"
        },
        "id": "9Otei8hhx7SS",
        "outputId": "05ce0be3-8fa3-408d-aa2b-97dddb6c229f"
      },
      "execution_count": 33,
      "outputs": [
        {
          "output_type": "stream",
          "name": "stdout",
          "text": [
            "[1. 1. 1. 1.]\n",
            "\n",
            "[[1. 1. 1. 1. 1.]\n",
            " [1. 1. 1. 1. 1.]\n",
            " [1. 1. 1. 1. 1.]\n",
            " [1. 1. 1. 1. 1.]]\n"
          ]
        }
      ]
    },
    {
      "cell_type": "code",
      "source": [
        "arr_dia=np.eye(4,7)\n",
        "print(arr_dia)"
      ],
      "metadata": {
        "colab": {
          "base_uri": "https://localhost:8080/"
        },
        "id": "kCYyj1bnyRaY",
        "outputId": "148e8351-dc33-4de5-ec28-a0c326ce2b57"
      },
      "execution_count": 36,
      "outputs": [
        {
          "output_type": "stream",
          "name": "stdout",
          "text": [
            "[[1. 0. 0. 0. 0. 0. 0.]\n",
            " [0. 1. 0. 0. 0. 0. 0.]\n",
            " [0. 0. 1. 0. 0. 0. 0.]\n",
            " [0. 0. 0. 1. 0. 0. 0.]]\n"
          ]
        }
      ]
    },
    {
      "cell_type": "code",
      "source": [
        "arr_em=np.empty(4)\n",
        "print(arr_em)"
      ],
      "metadata": {
        "colab": {
          "base_uri": "https://localhost:8080/"
        },
        "id": "iUdreYUzyp-I",
        "outputId": "a6a70087-1a04-4f51-fee4-50fb1f6facb6"
      },
      "execution_count": 38,
      "outputs": [
        {
          "output_type": "stream",
          "name": "stdout",
          "text": [
            "[1. 1. 1. 1.]\n"
          ]
        }
      ]
    },
    {
      "cell_type": "code",
      "source": [
        "arr_ran=np.arange(10)\n",
        "print(arr_ran)\n",
        "arr_ran1=np.arange(10)\n",
        "print(arr_ran1)"
      ],
      "metadata": {
        "colab": {
          "base_uri": "https://localhost:8080/"
        },
        "id": "weRwyVNpy-Eg",
        "outputId": "3a59dad4-d1cb-4826-8002-73b6061d7f74"
      },
      "execution_count": 41,
      "outputs": [
        {
          "output_type": "stream",
          "name": "stdout",
          "text": [
            "[0 1 2 3 4 5 6 7 8 9]\n",
            "[0 1 2 3 4 5 6 7 8 9]\n"
          ]
        }
      ]
    },
    {
      "cell_type": "code",
      "source": [
        "arr_lin=np.linspace(1,10,num=5)\n",
        "print(arr_lin)\n",
        "arr_lin=np.linspace(1,10,num=4)\n",
        "print(arr_lin)\n",
        "arr_lin=np.linspace(1,10,num=3)\n",
        "print(arr_lin)\n",
        "arr_lin=np.linspace(1,10,num=2)\n",
        "print(arr_lin)"
      ],
      "metadata": {
        "colab": {
          "base_uri": "https://localhost:8080/"
        },
        "id": "8QKvqoXazad4",
        "outputId": "15b0220c-e8ec-4d6d-b483-d4c251058676"
      },
      "execution_count": 47,
      "outputs": [
        {
          "output_type": "stream",
          "name": "stdout",
          "text": [
            "[ 1.    3.25  5.5   7.75 10.  ]\n",
            "[ 1.  4.  7. 10.]\n",
            "[ 1.   5.5 10. ]\n",
            "[ 1. 10.]\n"
          ]
        }
      ]
    },
    {
      "cell_type": "code",
      "source": [],
      "metadata": {
        "id": "7GwNEpe10iTB"
      },
      "execution_count": null,
      "outputs": []
    }
  ]
}